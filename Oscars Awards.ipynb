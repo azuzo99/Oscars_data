{
 "cells": [
  {
   "cell_type": "code",
   "execution_count": 1,
   "id": "77636ce7",
   "metadata": {},
   "outputs": [
    {
     "name": "stdout",
     "output_type": "stream",
     "text": [
      "          oscar_yr         award            name                       movie  \\\n",
      "oscar_no                                                                       \n",
      "1             1929  Best actress    Janet Gaynor                  7th Heaven   \n",
      "2             1930  Best actress   Mary Pickford                    Coquette   \n",
      "3             1931  Best actress   Norma Shearer                The Divorcee   \n",
      "4             1932  Best actress  Marie Dressler                Min and Bill   \n",
      "5             1933  Best actress     Helen Hayes  The Sin of Madelon Claudet   \n",
      "\n",
      "          age       birth_pl  birth_date  birth_mo  birth_d  birth_y  \n",
      "oscar_no                                                              \n",
      "1          22   Pennsylvania  1906-10-06        10        6     1906  \n",
      "2          37         Canada  1892-04-08         4        8     1892  \n",
      "3          28         Canada  1902-08-10         8       10     1902  \n",
      "4          63         Canada  1868-11-09        11        9     1868  \n",
      "5          32  Washington DC  1900-10-10        10       10     1900  \n"
     ]
    }
   ],
   "source": [
    "import pandas as pd\n",
    "import numpy as np\n",
    "import matplotlib.pyplot as plt\n",
    "data=pd.read_csv(\"oscars.csv\",index_col=0)\n",
    "\n",
    "print(data[0:5])"
   ]
  },
  {
   "cell_type": "code",
   "execution_count": 2,
   "id": "e6e274d9",
   "metadata": {},
   "outputs": [
    {
     "name": "stdout",
     "output_type": "stream",
     "text": [
      "          oscar_yr       award              name  \\\n",
      "oscar_no                                           \n",
      "1             1929  Best actor     Emil Jannings   \n",
      "2             1930  Best actor     Warner Baxter   \n",
      "3             1931  Best actor     George Arliss   \n",
      "4             1932  Best actor  Lionel Barrymore   \n",
      "5             1933  Best actor     Fredric March   \n",
      "\n",
      "                                   movie  age      birth_pl  birth_date  \\\n",
      "oscar_no                                                                  \n",
      "1         The Way of All Flesh & The Las   44   Switzerland  1884-07-23   \n",
      "2                         In Old Arizona   40          Ohio  1889-03-29   \n",
      "3                               Disraeli   62       England  1868-04-10   \n",
      "4                            A Free Soul   53  Pennsylvania  1878-04-28   \n",
      "5                Dr. Jekyll and Mr. Hyde   35     Wisconsin  1897-08-31   \n",
      "\n",
      "          birth_mo  birth_d  birth_y  \n",
      "oscar_no                              \n",
      "1                7       23     1884  \n",
      "2                3       29     1889  \n",
      "3                4       10     1868  \n",
      "4                4       28     1878  \n",
      "5                8       31     1897  \n"
     ]
    }
   ],
   "source": [
    "best_actors=data[data[\"award\"]==\"Best actor\"]\n",
    "print(best_actors[0:5])"
   ]
  },
  {
   "cell_type": "code",
   "execution_count": 3,
   "id": "abc2983c",
   "metadata": {},
   "outputs": [
    {
     "name": "stdout",
     "output_type": "stream",
     "text": [
      "          oscar_yr         award            name                       movie  \\\n",
      "oscar_no                                                                       \n",
      "1             1929  Best actress    Janet Gaynor                  7th Heaven   \n",
      "2             1930  Best actress   Mary Pickford                    Coquette   \n",
      "3             1931  Best actress   Norma Shearer                The Divorcee   \n",
      "4             1932  Best actress  Marie Dressler                Min and Bill   \n",
      "5             1933  Best actress     Helen Hayes  The Sin of Madelon Claudet   \n",
      "\n",
      "          age       birth_pl  birth_date  birth_mo  birth_d  birth_y  \n",
      "oscar_no                                                              \n",
      "1          22   Pennsylvania  1906-10-06        10        6     1906  \n",
      "2          37         Canada  1892-04-08         4        8     1892  \n",
      "3          28         Canada  1902-08-10         8       10     1902  \n",
      "4          63         Canada  1868-11-09        11        9     1868  \n",
      "5          32  Washington DC  1900-10-10        10       10     1900  \n"
     ]
    }
   ],
   "source": [
    "best_actress=data[data[\"award\"]==\"Best actress\"]\n",
    "print(best_actress[0:5])"
   ]
  },
  {
   "cell_type": "code",
   "execution_count": 4,
   "id": "9a7d415d",
   "metadata": {},
   "outputs": [
    {
     "name": "stdout",
     "output_type": "stream",
     "text": [
      "               men_avg  women_avg  men_median  women_median\n",
      "Age of winner       44         36          42            33\n"
     ]
    }
   ],
   "source": [
    "final={}\n",
    "final['men_avg']=round(np.mean(best_actors['age']))\n",
    "final['women_avg']=round(np.mean(best_actress['age']))\n",
    "final['men_median']=round(np.median(best_actors['age']))\n",
    "final['women_median']=round(np.median(best_actress['age']))\n",
    "index_label=\"Age of winner\"\n",
    "f=pd.DataFrame(final,index=[index_label])\n",
    "print(f)"
   ]
  },
  {
   "cell_type": "code",
   "execution_count": 5,
   "id": "ef399d59",
   "metadata": {},
   "outputs": [
    {
     "name": "stdout",
     "output_type": "stream",
     "text": [
      "[29. 34. 39. 45. 50. 55. 60. 66. 71. 76.]\n"
     ]
    },
    {
     "data": {
      "text/plain": [
       "<matplotlib.legend.Legend at 0x192419ebfd0>"
      ]
     },
     "execution_count": 5,
     "metadata": {},
     "output_type": "execute_result"
    },
    {
     "data": {
      "image/png": "[encoded data removed]",
      "text/plain": [
       "<Figure size 432x288 with 1 Axes>"
      ]
     },
     "metadata": {
      "needs_background": "light"
     },
     "output_type": "display_data"
    }
   ],
   "source": [
    "bin_len_m=np.round(np.linspace(min(best_actors[\"age\"]), max(best_actors[\"age\"]), 10))\n",
    "print(bin_len_m)\n",
    "plt.hist(best_actors[\"age\"],bins=bin_len_m,edgecolor='black',color='red')\n",
    "plt.xticks(bin_len_m)\n",
    "plt.xlabel(\"Actors Age\")\n",
    "plt.ylabel(\"Number of winners\")\n",
    "plt.title(\"Winner actors age distribution\")\n",
    "plt.axvline(f.iloc[0,0],c='blue')\n",
    "plt.axvline(f.iloc[0,2],c='green')\n",
    "plt.legend(['Mean','Median','Distribution'])"
   ]
  },
  {
   "cell_type": "code",
   "execution_count": null,
   "id": "185f260e",
   "metadata": {},
   "outputs": [],
   "source": []
  },
  {
   "cell_type": "code",
   "execution_count": 6,
   "id": "905a205a",
   "metadata": {},
   "outputs": [
    {
     "name": "stdout",
     "output_type": "stream",
     "text": [
      "[21. 28. 34. 41. 47. 54. 60. 67. 73. 80.]\n"
     ]
    },
    {
     "data": {
      "text/plain": [
       "<matplotlib.legend.Legend at 0x19241af0250>"
      ]
     },
     "execution_count": 6,
     "metadata": {},
     "output_type": "execute_result"
    },
    {
     "data": {
      "image/png": "[encoded data removed]",
      "text/plain": [
       "<Figure size 432x288 with 1 Axes>"
      ]
     },
     "metadata": {
      "needs_background": "light"
     },
     "output_type": "display_data"
    }
   ],
   "source": [
    "bin_len_w=np.round(np.linspace(min(best_actress[\"age\"]), max(best_actress[\"age\"]), 10))\n",
    "print(bin_len_w)\n",
    "plt.hist(best_actress[\"age\"],bins=bin_len_w,edgecolor='black',color='blue')\n",
    "plt.xticks(bin_len_w)\n",
    "plt.xlabel(\"Actress Age\")\n",
    "plt.ylabel(\"Number of winners\")\n",
    "plt.title(\"Winner actress age distribution\")\n",
    "plt.axvline(f.iloc[0,1],c='purple')\n",
    "plt.axvline(f.iloc[0,3],c='red')\n",
    "plt.legend(['Mean','Median','Distribution'])"
   ]
  },
  {
   "cell_type": "code",
   "execution_count": 7,
   "id": "4163e869",
   "metadata": {},
   "outputs": [
    {
     "data": {
      "text/plain": [
       "<matplotlib.legend.Legend at 0x19241b6c0a0>"
      ]
     },
     "execution_count": 7,
     "metadata": {},
     "output_type": "execute_result"
    },
    {
     "data": {
      "image/png": "[encoded data removed]",
      "text/plain": [
       "<Figure size 432x288 with 1 Axes>"
      ]
     },
     "metadata": {
      "needs_background": "light"
     },
     "output_type": "display_data"
    }
   ],
   "source": [
    "plt.scatter(best_actors['oscar_yr'],best_actors['age'])\n",
    "plt.xlabel(\"Year\")\n",
    "plt.ylabel(\"Actor Age\")\n",
    "plt.title(\"Winner actor age in the years\")\n",
    "plt.axhline(f.iloc[0,0],c='blue')\n",
    "plt.axhline(f.iloc[0,2],c='green')\n",
    "plt.legend(['Mean','Median','Age vs Year'])"
   ]
  },
  {
   "cell_type": "code",
   "execution_count": 8,
   "id": "6b7f5e83",
   "metadata": {},
   "outputs": [
    {
     "data": {
      "text/plain": [
       "<matplotlib.legend.Legend at 0x19241bec1f0>"
      ]
     },
     "execution_count": 8,
     "metadata": {},
     "output_type": "execute_result"
    },
    {
     "data": {
      "image/png": "[encoded data removed]",
      "text/plain": [
       "<Figure size 432x288 with 1 Axes>"
      ]
     },
     "metadata": {
      "needs_background": "light"
     },
     "output_type": "display_data"
    }
   ],
   "source": [
    "plt.scatter(best_actress['oscar_yr'],best_actress['age'])\n",
    "plt.xlabel(\"Year\")\n",
    "plt.ylabel(\"Actress Age\")\n",
    "plt.title(\"Winner actress age in the years\")\n",
    "plt.axhline(f.iloc[0,1],c='purple')\n",
    "plt.axhline(f.iloc[0,3],c='red')\n",
    "plt.legend(['Mean','Median','Age vs Year'])"
   ]
  },
  {
   "cell_type": "code",
   "execution_count": 9,
   "id": "0d25e665",
   "metadata": {},
   "outputs": [
    {
     "name": "stdout",
     "output_type": "stream",
     "text": [
      "oscar_yr                1932\n",
      "award           Best actress\n",
      "name          Marie Dressler\n",
      "movie           Min and Bill\n",
      "age                       63\n",
      "birth_pl              Canada\n",
      "birth_date        1868-11-09\n",
      "birth_mo                  11\n",
      "birth_d                    9\n",
      "birth_y                 1868\n",
      "Name: 4, dtype: object\n"
     ]
    }
   ],
   "source": [
    "exception=best_actress[best_actress['age']>40]\n",
    "exception=exception[exception['oscar_yr']<1950]\n",
    "for lab,row in exception.iterrows():\n",
    "    print(row)"
   ]
  },
  {
   "cell_type": "code",
   "execution_count": 10,
   "id": "b21e0a24",
   "metadata": {},
   "outputs": [
    {
     "name": "stdout",
     "output_type": "stream",
     "text": [
      "Fredric March       2\n",
      "Spencer Tracy       2\n",
      "Gary Cooper         2\n",
      "Marlon Brando       2\n",
      "Jack Nicholson      2\n",
      "Dustin Hoffman      2\n",
      "Daniel Day-Lewis    3\n",
      "Tom Hanks           2\n",
      "Sean Penn           2\n",
      "Name: Oscars, dtype: int64\n",
      "Total amount of men with more than 1 Oscar: 9\n"
     ]
    }
   ],
   "source": [
    "men_count=best_actors['name'].unique()\n",
    "men_dict={}\n",
    "for men in men_count:\n",
    "    if best_actors[best_actors.name==men].shape[0]>1:\n",
    "        men_dict[men]=best_actors[best_actors.name==men].shape[0]\n",
    "    else:\n",
    "        pass\n",
    "men_top=pd.DataFrame(men_dict,index=['Oscars'])\n",
    "\n",
    "for lab,row in men_top.iterrows():\n",
    "    print(row)\n",
    "    \n",
    "men_top_len=len(men_top.keys())\n",
    "print(f'Total amount of men with more than 1 Oscar: {men_top_len}')"
   ]
  },
  {
   "cell_type": "code",
   "execution_count": 11,
   "id": "1b664829",
   "metadata": {},
   "outputs": [
    {
     "name": "stdout",
     "output_type": "stream",
     "text": [
      "Katharine Hepburn      4\n",
      "Bette Davis            2\n",
      "Luise Rainer           2\n",
      "Vivien Leigh           2\n",
      "Ingrid Bergman         2\n",
      "Olivia de Havilland    2\n",
      "Glenda Jackson         2\n",
      "Jane Fonda             2\n",
      "Sally Field            2\n",
      "Meryl Streep           2\n",
      "Jodie Foster           2\n",
      "Frances McDormand      2\n",
      "Hilary Swank           2\n",
      "Name: Oscars, dtype: int64\n",
      "Total amount of women with more than 1 Oscar: 13\n"
     ]
    }
   ],
   "source": [
    "women_count=best_actress['name'].unique()\n",
    "women_dict={}\n",
    "for women in women_count:\n",
    "    if best_actress[best_actress.name==women].shape[0]>1:\n",
    "        women_dict[women]=best_actress[best_actress.name==women].shape[0]\n",
    "    else:\n",
    "        pass\n",
    "women_top=pd.DataFrame(women_dict,index=['Oscars'])\n",
    "\n",
    "for lab,row in women_top.iterrows():\n",
    "    print(row)\n",
    "    \n",
    "women_top_len=len(women_top.keys())\n",
    "print(f'Total amount of women with more than 1 Oscar: {women_top_len}')"
   ]
  },
  {
   "cell_type": "code",
   "execution_count": 12,
   "id": "5fceecd1",
   "metadata": {},
   "outputs": [],
   "source": [
    "#Conclusions\n",
    "\n",
    "# Analysis of the data shows that Winners among the men get their Oscars with mean age of 44 yo with median of 42 yo\n",
    "# while Winners among the women get their Oscars with mean age of 36 yo with median of 33 yo\n",
    "\n",
    "# The changes in the trend are not visible looking on men charts while there is a little change of tendency among women.\n",
    "\n",
    "# As we can see to the 50s' there wasn't a winner older than 40 yo except of Marrie Dressler who took Oscar during the 4th\n",
    "# ceremony in year 1932 being 63 yo\n",
    "\n",
    "# 9 actors and 13 actresses have more than 1 oscar\n",
    "# Only 1 actor and 1 actress have more than 2 Oscars and here they are : Katharine Hepburn (4) and Daniel Day - Lewis (3)"
   ]
  }
 ],
 "metadata": {
  "kernelspec": {
   "display_name": "Python 3 (ipykernel)",
   "language": "python",
   "name": "python3"
  },
  "language_info": {
   "codemirror_mode": {
    "name": "ipython",
    "version": 3
   },
   "file_extension": ".py",
   "mimetype": "text/x-python",
   "name": "python",
   "nbconvert_exporter": "python",
   "pygments_lexer": "ipython3",
   "version": "3.9.7"
  }
 },
 "nbformat": 4,
 "nbformat_minor": 5
}
